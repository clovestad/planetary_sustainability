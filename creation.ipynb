{
 "cells": [
  {
   "cell_type": "code",
   "execution_count": 1,
   "metadata": {},
   "outputs": [],
   "source": [
    "import pandas as pd\n",
    "import random\n",
    "\n",
    "# Speed of light in light-years per year\n",
    "speed_of_light = 1\n",
    "\n",
    "# Function to calculate travel time at the speed of light\n",
    "def calculate_travel_time(distance):\n",
    "    return distance / speed_of_light\n",
    "\n",
    "# Function to generate random values for fictional planets\n",
    "def generate_planet_values():\n",
    "    distance = round(random.uniform(1, 1500), 2)\n",
    "    oxygen_content = round(random.uniform(0.1, 0.3), 2)\n",
    "    soil_fertility = round(random.uniform(0.3, 0.8), 2)\n",
    "    seasonal_temperatures = round(random.uniform(-30, 100), 2)  # Temperature in Fahrenheit\n",
    "    water_availability = random.choice(['Y', 'N'])\n",
    "\n",
    "    # Sustainibility threshold\n",
    "    sustainability_threshold = 0.5\n",
    "    suitability_for_life = 'Yes' if oxygen_content > sustainability_threshold and soil_fertility > sustainability_threshold and seasonal_temperatures > 0 and water_availability == 'Y' else 'No'\n",
    "\n",
    "    return {\n",
    "        'Distance (light-years)': distance,\n",
    "        'Travel Time at Speed of Light (years)': calculate_travel_time(distance),\n",
    "        'Atmospheric Oxygen Content': oxygen_content,\n",
    "        'Soil Fertility': soil_fertility,\n",
    "        'Median Seasonal Temperatures (F)': seasonal_temperatures,\n",
    "        'Availability of Potable Water': water_availability,\n",
    "        'Suitability for Life': suitability_for_life\n",
    "    }\n",
    "\n",
    "# Generate 1000 systems with 3 planets each\n",
    "data = []\n",
    "for i in range(1, 1001):\n",
    "    for j in range(1, 4):\n",
    "        data.append(['System{}'.format(i), 'Planet{}'.format(j), *generate_planet_values().values()])\n",
    "\n",
    "# Create a DataFrame\n",
    "columns = ['Solar System', 'Planet', 'Distance (light-years)', 'Travel Time at Speed of Light (years)', 'Atmospheric Oxygen Content', 'Soil Fertility', 'Median Seasonal Temperatures (F)', 'Availability of Potable Water', 'Suitability for Life']\n",
    "df = pd.DataFrame(data, columns=columns)\n",
    "\n",
    "# Save the DataFrame to a CSV file\n",
    "df.to_csv('fictional_planets_dataset.csv', index=False)\n",
    "\n"
   ]
  }
 ],
 "metadata": {
  "kernelspec": {
   "display_name": "dojo-env",
   "language": "python",
   "name": "python3"
  },
  "language_info": {
   "codemirror_mode": {
    "name": "ipython",
    "version": 3
   },
   "file_extension": ".py",
   "mimetype": "text/x-python",
   "name": "python",
   "nbconvert_exporter": "python",
   "pygments_lexer": "ipython3",
   "version": "3.9.15"
  }
 },
 "nbformat": 4,
 "nbformat_minor": 2
}
